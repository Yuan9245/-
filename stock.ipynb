{
  "nbformat": 4,
  "nbformat_minor": 0,
  "metadata": {
    "colab": {
      "provenance": []
    },
    "kernelspec": {
      "name": "python3",
      "display_name": "Python 3"
    },
    "language_info": {
      "name": "python"
    }
  },
  "cells": [
    {
      "cell_type": "code",
      "source": [
        "import twstock\n",
        "import pandas as pd\n",
        "\n",
        "# List of Taiwan ETF codes with corresponding names\n",
        "etf_list = {\n",
        "    '0050': '元大台灣50',\n",
        "    '0051': '元大中型100',\n",
        "    '0052': '富邦科技',\n",
        "    # Add more ETF codes and names as needed\n",
        "}\n",
        "\n",
        "# Initialize an empty DataFrame to store data\n",
        "df_all_etfs = pd.DataFrame()\n",
        "\n",
        "# Loop through each ETF code and fetch data\n",
        "for etf_code, etf_name in etf_list.items():\n",
        "    stock = twstock.Stock(etf_code)\n",
        "    target_price = stock.fetch_from(2024, 2)  # Fetch data from May 2020 onwards\n",
        "\n",
        "    # Define column names\n",
        "    name_attribute = [\n",
        "        'Date', 'Capacity', 'Turnover', 'Open', 'High', 'Low', 'Close', 'Change','Transaction'\n",
        "    ]\n",
        "\n",
        "    # Create DataFrame for the current ETF\n",
        "    df_etf = pd.DataFrame(columns=name_attribute, data=target_price)\n",
        "\n",
        "    # Add a column for ETF code\n",
        "    df_etf['ETF_Code'] = etf_code\n",
        "\n",
        "    # Add a column for ETF name\n",
        "    df_etf['ETF_Name'] = etf_name\n",
        "\n",
        "    # Write the current ETF's DataFrame to a CSV file\n",
        "    filename = f'/content/drive/MyDrive/Colab Notebooks/stock_test/etf_{etf_code}.csv'\n",
        "    df_etf.to_csv(filename)\n",
        "\n",
        "    # Concatenate the current ETF DataFrame with the overall DataFrame\n",
        "    df_all_etfs = pd.concat([df_all_etfs, df_etf], ignore_index=True)\n",
        "\n",
        "print(df_all_etfs)\n",
        "\n"
      ],
      "metadata": {
        "colab": {
          "base_uri": "https://localhost:8080/"
        },
        "id": "O-AHTrf-0yKS",
        "outputId": "c32db406-f330-45d9-840b-fbbced928130"
      },
      "execution_count": 52,
      "outputs": [
        {
          "output_type": "stream",
          "name": "stdout",
          "text": [
            "         Date  Capacity    Turnover    Open    High     Low   Close  Change  \\\n",
            "0  2024-02-01   8812920  1180328029  134.35  134.50  133.60  134.35    0.00   \n",
            "1  2024-02-02   9178958  1238629170  135.00  135.20  134.65  135.10    0.75   \n",
            "2  2024-02-05  17961425  2439229519  135.10  136.20  135.00  135.95    0.85   \n",
            "3  2024-02-15  44444918  6313384766  142.20  142.70  141.40  142.35    6.40   \n",
            "4  2024-02-16  18273199  2589642250  142.35  142.35  141.20  141.30   -1.05   \n",
            "..        ...       ...         ...     ...     ...     ...     ...     ...   \n",
            "82 2024-03-18    622034    96789869  155.20  156.95  155.00  156.95    1.70   \n",
            "83 2024-03-19    291168    45476280  156.10  156.60  155.35  156.40   -0.55   \n",
            "84 2024-03-20    795381   124557552  156.60  157.65  155.00  155.85   -0.55   \n",
            "85 2024-03-21    958730   152488497  157.85  160.00  157.85  160.00    4.15   \n",
            "86 2024-03-22    415163    66263546  160.60  160.60  158.40  160.15    0.15   \n",
            "\n",
            "    Transaction ETF_Code ETF_Name  \n",
            "0          9600     0050   元大台灣50  \n",
            "1          6764     0050   元大台灣50  \n",
            "2         16536     0050   元大台灣50  \n",
            "3         44592     0050   元大台灣50  \n",
            "4         14623     0050   元大台灣50  \n",
            "..          ...      ...      ...  \n",
            "82          602     0052     富邦科技  \n",
            "83          621     0052     富邦科技  \n",
            "84          519     0052     富邦科技  \n",
            "85          762     0052     富邦科技  \n",
            "86          604     0052     富邦科技  \n",
            "\n",
            "[87 rows x 11 columns]\n"
          ]
        }
      ]
    },
    {
      "cell_type": "code",
      "source": [
        "import datetime\n",
        "import requests\n",
        "import pandas as pd\n",
        "import time\n",
        "from bs4 import BeautifulSoup\n",
        "\n",
        "# 產生近7個實際日期\n",
        "todayDate = datetime.datetime.now()\n",
        "dateList = []\n",
        "for i in range(7):\n",
        "    iDate = todayDate - datetime.timedelta(days=i)\n",
        "    dateList.append(iDate.strftime('%Y%m%d'))\n",
        "\n",
        "# 建立儲存表\n",
        "stockPriceData = pd.DataFrame()\n",
        "\n",
        "# 迴圈日期下載資料\n",
        "for iDate in dateList:\n",
        "\n",
        "    # 下載證交所資料\n",
        "    # 取得目標日期資料\n",
        "    url = 'https://www.twse.com.tw/exchangeReport/MI_INDEX?response=html&date=' + iDate + '&type=ALLBUT0999'\n",
        "    response = requests.get(url)\n",
        "    soup = BeautifulSoup(response.text, 'html.parser')\n",
        "\n",
        "    # 判斷是否有空資料存在 若存在則跳離此次迴圈\n",
        "    if ('很抱歉，沒有符合條件的資料!' in soup.text):\n",
        "        continue\n",
        "\n",
        "    # 整理證交所每日收盤行情表\n",
        "    table = soup.find_all('table')[8]\n",
        "    columnNames = table.find('thead').find_all('tr')[2].find_all('td')\n",
        "    columnNames = [elem.getText() for elem in columnNames]\n",
        "    rowDatas = table.find('tbody').find_all('tr')\n",
        "    rows = list()\n",
        "    for row in rowDatas:\n",
        "        rows.append([elem.getText().replace(',', '').replace('--', '') for elem in row.find_all('td')])\n",
        "    df = pd.DataFrame(data=rows, columns=columnNames)\n",
        "    df = df[['證券代號', '證券名稱', '開盤價', '最高價', '最低價', '收盤價', '成交股數', '成交金額']]\n",
        "    df = df.rename({'證券代號': 'code', '證券名稱': 'name', '開盤價': 'open', '最高價': 'high',\n",
        "                    '最低價': 'low', '收盤價': 'close', '成交股數': 'volume', '成交金額': 'value'}, axis=1)\n",
        "    df.insert(0, 'date', iDate, True)\n",
        "    df.insert(1, 'mkt', 'tse', True)\n",
        "\n",
        "    # 儲存證交所資料\n",
        "    stockPriceData = pd.concat([stockPriceData, df])\n",
        "    time.sleep(1)\n",
        "\n",
        "filename = '/content/drive/MyDrive/Colab Notebooks/stock_test/etf.csv'\n",
        "stockPriceData.to_csv(filename)\n",
        "\n",
        "# 呈現結果\n",
        "print(stockPriceData)"
      ],
      "metadata": {
        "colab": {
          "base_uri": "https://localhost:8080/"
        },
        "id": "aFQphZbtKNnX",
        "outputId": "3cf4414b-001f-4120-a8b5-bcc9c93af1d1"
      },
      "execution_count": 56,
      "outputs": [
        {
          "output_type": "stream",
          "name": "stdout",
          "text": [
            "          date  mkt  code      name    open    high     low   close   volume  \\\n",
            "0     20240322  tse  0050    元大台灣50  157.50  158.25  156.50  157.20  7163593   \n",
            "1     20240322  tse  0051   元大中型100   78.65   78.80   78.30   78.40    44071   \n",
            "2     20240322  tse  0052      富邦科技  160.60  160.60  158.40  160.15   415163   \n",
            "3     20240322  tse  0053      元大電子   85.80   86.10   85.10   85.90    13454   \n",
            "4     20240322  tse  0055  元大MSCI金融   25.31   25.45   25.12   25.30   886594   \n",
            "...        ...  ...   ...       ...     ...     ...     ...     ...      ...   \n",
            "1225  20240318  tse  9944        新麗   20.00   20.10   19.90   20.10   117734   \n",
            "1226  20240318  tse  9945       潤泰新   35.00   35.15   34.60   34.70  7314745   \n",
            "1227  20240318  tse  9946      三發地產   23.05   23.45   22.90   23.25   372887   \n",
            "1228  20240318  tse  9955        佳龍   23.75   23.75   23.20   23.45   290487   \n",
            "1229  20240318  tse  9958       世紀鋼  225.00  227.50  220.00  224.00  4086510   \n",
            "\n",
            "           value  \n",
            "0     1126524179  \n",
            "1        3463451  \n",
            "2       66263546  \n",
            "3        1152698  \n",
            "4       22421326  \n",
            "...          ...  \n",
            "1225     2355069  \n",
            "1226   254253148  \n",
            "1227     8623394  \n",
            "1228     6777253  \n",
            "1229   912270602  \n",
            "\n",
            "[6151 rows x 10 columns]\n"
          ]
        }
      ]
    }
  ]
}